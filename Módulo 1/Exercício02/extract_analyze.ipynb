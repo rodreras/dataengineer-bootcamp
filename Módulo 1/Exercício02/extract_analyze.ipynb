{
 "cells": [
  {
   "cell_type": "markdown",
   "metadata": {},
   "source": [
    "# Extrai Tweets"
   ]
  },
  {
   "cell_type": "code",
   "execution_count": null,
   "metadata": {},
   "outputs": [],
   "source": []
  },
  {
   "cell_type": "markdown",
   "metadata": {},
   "source": [
    "# Play! "
   ]
  },
  {
   "cell_type": "code",
   "execution_count": 2,
   "metadata": {},
   "outputs": [
    {
     "name": "stdout",
     "output_type": "stream",
     "text": [
      "^C\n"
     ]
    }
   ],
   "source": [
    "!python get_tweets.py"
   ]
  },
  {
   "cell_type": "markdown",
   "metadata": {},
   "source": [
    "# Entenendo a estrutura do JSON"
   ]
  },
  {
   "cell_type": "code",
   "execution_count": 3,
   "metadata": {},
   "outputs": [],
   "source": [
    "import json"
   ]
  },
  {
   "cell_type": "code",
   "execution_count": 4,
   "metadata": {},
   "outputs": [],
   "source": [
    "with open('collected_tweets2021-03-09-17-47-03.txt', 'r') as file:\n",
    "    tweets = file.readlines()"
   ]
  },
  {
   "cell_type": "code",
   "execution_count": 5,
   "metadata": {},
   "outputs": [
    {
     "data": {
      "text/plain": [
       "'\"{\\\\\"created_at\\\\\":\\\\\"Tue Mar 09 20:47:24 +0000 2021\\\\\",\\\\\"id\\\\\":1369389379987324928,\\\\\"id_str\\\\\":\\\\\"1369389379987324928\\\\\",\\\\\"text\\\\\":\\\\\"RT @whoistaoana: O Lula incomoda mais os bolsominions que o povo passando FOME, o g\\\\\\\\u00e1s a 100 pila, gasolina 6 conto, d\\\\\\\\u00f3lar 6 conto... eh de\\\\\\\\u2026\\\\\",\\\\\"source\\\\\":\\\\\"\\\\\\\\u003ca href=\\\\\\\\\\\\\"http:\\\\\\\\/\\\\\\\\/twitter.com\\\\\\\\/download\\\\\\\\/iphone\\\\\\\\\\\\\" rel=\\\\\\\\\\\\\"nofollow\\\\\\\\\\\\\"\\\\\\\\u003eTwitter for iPhone\\\\\\\\u003c\\\\\\\\/a\\\\\\\\u003e\\\\\",\\\\\"truncated\\\\\":false,\\\\\"in_reply_to_status_id\\\\\":null,\\\\\"in_reply_to_status_id_str\\\\\":null,\\\\\"in_reply_to_user_id\\\\\":null,\\\\\"in_reply_to_user_id_str\\\\\":null,\\\\\"in_reply_to_screen_name\\\\\":null,\\\\\"user\\\\\":{\\\\\"id\\\\\":91839568,\\\\\"id_str\\\\\":\\\\\"91839568\\\\\",\\\\\"name\\\\\":\\\\\"Mirnei comentarista BBB21\\\\\",\\\\\"screen_name\\\\\":\\\\\"mirnajade\\\\\",\\\\\"location\\\\\":\\\\\"Belo Horizonte, Brazil\\\\\",\\\\\"url\\\\\":null,\\\\\"description\\\\\":\\\\\"031\\\\\\\\u2708\\\\\\\\ufe0f\\\\\\\\u2708\\\\\\\\ufe0f\\\\\\\\u2708\\\\\\\\ufe0f910\\\\\",\\\\\"translator_type\\\\\":\\\\\"none\\\\\",\\\\\"protected\\\\\":false,\\\\\"verified\\\\\":false,\\\\\"followers_count\\\\\":236,\\\\\"friends_count\\\\\":254,\\\\\"listed_count\\\\\":1,\\\\\"favourites_count\\\\\":14395,\\\\\"statuses_count\\\\\":31276,\\\\\"created_at\\\\\":\\\\\"Sun Nov 22 18:24:13 +0000 2009\\\\\",\\\\\"utc_offset\\\\\":null,\\\\\"time_zone\\\\\":null,\\\\\"geo_enabled\\\\\":true,\\\\\"lang\\\\\":null,\\\\\"contributors_enabled\\\\\":false,\\\\\"is_translator\\\\\":false,\\\\\"profile_background_color\\\\\":\\\\\"EAF3F7\\\\\",\\\\\"profile_background_image_url\\\\\":\\\\\"http:\\\\\\\\/\\\\\\\\/abs.twimg.com\\\\\\\\/images\\\\\\\\/themes\\\\\\\\/theme1\\\\\\\\/bg.png\\\\\",\\\\\"profile_background_image_url_https\\\\\":\\\\\"https:\\\\\\\\/\\\\\\\\/abs.twimg.com\\\\\\\\/images\\\\\\\\/themes\\\\\\\\/theme1\\\\\\\\/bg.png\\\\\",\\\\\"profile_background_tile\\\\\":false,\\\\\"profile_link_color\\\\\":\\\\\"0084B4\\\\\",\\\\\"profile_sidebar_border_color\\\\\":\\\\\"FFFFFF\\\\\",\\\\\"profile_sidebar_fill_color\\\\\":\\\\\"DDEEF6\\\\\",\\\\\"profile_text_color\\\\\":\\\\\"333333\\\\\",\\\\\"profile_use_background_image\\\\\":false,\\\\\"profile_image_url\\\\\":\\\\\"http:\\\\\\\\/\\\\\\\\/pbs.twimg.com\\\\\\\\/profile_images\\\\\\\\/1282880060408631296\\\\\\\\/6cVrNnGJ_normal.jpg\\\\\",\\\\\"profile_image_url_https\\\\\":\\\\\"https:\\\\\\\\/\\\\\\\\/pbs.twimg.com\\\\\\\\/profile_images\\\\\\\\/1282880060408631296\\\\\\\\/6cVrNnGJ_normal.jpg\\\\\",\\\\\"profile_banner_url\\\\\":\\\\\"https:\\\\\\\\/\\\\\\\\/pbs.twimg.com\\\\\\\\/profile_banners\\\\\\\\/91839568\\\\\\\\/1455230017\\\\\",\\\\\"default_profile\\\\\":false,\\\\\"default_profile_image\\\\\":false,\\\\\"following\\\\\":null,\\\\\"follow_request_sent\\\\\":null,\\\\\"notifications\\\\\":null},\\\\\"geo\\\\\":null,\\\\\"coordinates\\\\\":null,\\\\\"place\\\\\":null,\\\\\"contributors\\\\\":null,\\\\\"retweeted_status\\\\\":{\\\\\"created_at\\\\\":\\\\\"Mon Mar 08 20:32:22 +0000 2021\\\\\",\\\\\"id\\\\\":1369023207328653314,\\\\\"id_str\\\\\":\\\\\"1369023207328653314\\\\\",\\\\\"text\\\\\":\\\\\"O Lula incomoda mais os bolsominions que o povo passando FOME, o g\\\\\\\\u00e1s a 100 pila, gasolina 6 conto, d\\\\\\\\u00f3lar 6 conto... eh de fude mesmo\\\\\",\\\\\"source\\\\\":\\\\\"\\\\\\\\u003ca href=\\\\\\\\\\\\\"https:\\\\\\\\/\\\\\\\\/mobile.twitter.com\\\\\\\\\\\\\" rel=\\\\\\\\\\\\\"nofollow\\\\\\\\\\\\\"\\\\\\\\u003eTwitter Web App\\\\\\\\u003c\\\\\\\\/a\\\\\\\\u003e\\\\\",\\\\\"truncated\\\\\":false,\\\\\"in_reply_to_status_id\\\\\":null,\\\\\"in_reply_to_status_id_str\\\\\":null,\\\\\"in_reply_to_user_id\\\\\":null,\\\\\"in_reply_to_user_id_str\\\\\":null,\\\\\"in_reply_to_screen_name\\\\\":null,\\\\\"user\\\\\":{\\\\\"id\\\\\":2191143522,\\\\\"id_str\\\\\":\\\\\"2191143522\\\\\",\\\\\"name\\\\\":\\\\\"tao\\\\\",\\\\\"screen_name\\\\\":\\\\\"whoistaoana\\\\\",\\\\\"location\\\\\":null,\\\\\"url\\\\\":null,\\\\\"description\\\\\":\\\\\"vanitas vanitatum et omnia vanitas.\\\\\",\\\\\"translator_type\\\\\":\\\\\"regular\\\\\",\\\\\"protected\\\\\":false,\\\\\"verified\\\\\":false,\\\\\"followers_count\\\\\":4419,\\\\\"friends_count\\\\\":3368,\\\\\"listed_count\\\\\":1,\\\\\"favourites_count\\\\\":101900,\\\\\"statuses_count\\\\\":48764,\\\\\"created_at\\\\\":\\\\\"Tue Nov 12 22:18:00 +0000 2013\\\\\",\\\\\"utc_offset\\\\\":null,\\\\\"time_zone\\\\\":null,\\\\\"geo_enabled\\\\\":true,\\\\\"lang\\\\\":null,\\\\\"contributors_enabled\\\\\":false,\\\\\"is_translator\\\\\":false,\\\\\"profile_background_color\\\\\":\\\\\"F7DCF7\\\\\",\\\\\"profile_background_image_url\\\\\":\\\\\"http:\\\\\\\\/\\\\\\\\/abs.twimg.com\\\\\\\\/images\\\\\\\\/themes\\\\\\\\/theme1\\\\\\\\/bg.png\\\\\",\\\\\"profile_background_image_url_https\\\\\":\\\\\"https:\\\\\\\\/\\\\\\\\/abs.twimg.com\\\\\\\\/images\\\\\\\\/themes\\\\\\\\/theme1\\\\\\\\/bg.png\\\\\",\\\\\"profile_background_tile\\\\\":true,\\\\\"profile_link_color\\\\\":\\\\\"ABB8C2\\\\\",\\\\\"profile_sidebar_border_color\\\\\":\\\\\"000000\\\\\",\\\\\"profile_sidebar_fill_color\\\\\":\\\\\"5DB39D\\\\\",\\\\\"profile_text_color\\\\\":\\\\\"A0BDA0\\\\\",\\\\\"profile_use_background_image\\\\\":true,\\\\\"profile_image_url\\\\\":\\\\\"http:\\\\\\\\/\\\\\\\\/pbs.twimg.com\\\\\\\\/profile_images\\\\\\\\/1366086674640498690\\\\\\\\/upJQ8Pri_normal.jpg\\\\\",\\\\\"profile_image_url_https\\\\\":\\\\\"https:\\\\\\\\/\\\\\\\\/pbs.twimg.com\\\\\\\\/profile_images\\\\\\\\/1366086674640498690\\\\\\\\/upJQ8Pri_normal.jpg\\\\\",\\\\\"profile_banner_url\\\\\":\\\\\"https:\\\\\\\\/\\\\\\\\/pbs.twimg.com\\\\\\\\/profile_banners\\\\\\\\/2191143522\\\\\\\\/1495923326\\\\\",\\\\\"default_profile\\\\\":false,\\\\\"default_profile_image\\\\\":false,\\\\\"following\\\\\":null,\\\\\"follow_request_sent\\\\\":null,\\\\\"notifications\\\\\":null},\\\\\"geo\\\\\":null,\\\\\"coordinates\\\\\":null,\\\\\"place\\\\\":null,\\\\\"contributors\\\\\":null,\\\\\"is_quote_status\\\\\":false,\\\\\"quote_count\\\\\":51,\\\\\"reply_count\\\\\":12,\\\\\"retweet_count\\\\\":1203,\\\\\"favorite_count\\\\\":4905,\\\\\"entities\\\\\":{\\\\\"hashtags\\\\\":[],\\\\\"urls\\\\\":[],\\\\\"user_mentions\\\\\":[],\\\\\"symbols\\\\\":[]},\\\\\"favorited\\\\\":false,\\\\\"retweeted\\\\\":false,\\\\\"filter_level\\\\\":\\\\\"low\\\\\",\\\\\"lang\\\\\":\\\\\"pt\\\\\"},\\\\\"is_quote_status\\\\\":false,\\\\\"quote_count\\\\\":0,\\\\\"reply_count\\\\\":0,\\\\\"retweet_count\\\\\":0,\\\\\"favorite_count\\\\\":0,\\\\\"entities\\\\\":{\\\\\"hashtags\\\\\":[],\\\\\"urls\\\\\":[],\\\\\"user_mentions\\\\\":[{\\\\\"screen_name\\\\\":\\\\\"whoistaoana\\\\\",\\\\\"name\\\\\":\\\\\"tao\\\\\",\\\\\"id\\\\\":2191143522,\\\\\"id_str\\\\\":\\\\\"2191143522\\\\\",\\\\\"indices\\\\\":[3,15]}],\\\\\"symbols\\\\\":[]},\\\\\"favorited\\\\\":false,\\\\\"retweeted\\\\\":false,\\\\\"filter_level\\\\\":\\\\\"low\\\\\",\\\\\"lang\\\\\":\\\\\"pt\\\\\",\\\\\"timestamp_ms\\\\\":\\\\\"1615322844870\\\\\"}\\\\r\\\\n\"\\n'"
      ]
     },
     "execution_count": 5,
     "metadata": {},
     "output_type": "execute_result"
    }
   ],
   "source": [
    "tweets[0]"
   ]
  },
  {
   "cell_type": "code",
   "execution_count": 11,
   "metadata": {},
   "outputs": [],
   "source": [
    "#Fazendo o parse do tweet para um formato json e exporta arquivo.\n",
    "with open('tweet.json','w') as json_file:\n",
    "    json.dump(\n",
    "        json.loads(json.loads(tweets[0])), \n",
    "        json_file)"
   ]
  },
  {
   "cell_type": "code",
   "execution_count": 13,
   "metadata": {},
   "outputs": [],
   "source": [
    "parsed_tweets = [json.loads(json.loads(i)) for i in tweets]"
   ]
  },
  {
   "cell_type": "code",
   "execution_count": 15,
   "metadata": {},
   "outputs": [
    {
     "data": {
      "text/plain": [
       "5169"
      ]
     },
     "execution_count": 15,
     "metadata": {},
     "output_type": "execute_result"
    }
   ],
   "source": [
    "#quantidade de tweets coletados\n",
    "len(parsed_tweets)"
   ]
  },
  {
   "cell_type": "markdown",
   "metadata": {},
   "source": [
    "# Acessando as chaves do JSON (dicionário)"
   ]
  },
  {
   "cell_type": "code",
   "execution_count": 21,
   "metadata": {},
   "outputs": [
    {
     "data": {
      "text/plain": [
       "dict_items([('created_at', 'Tue Mar 09 20:47:24 +0000 2021'), ('id', 1369389379987324928), ('id_str', '1369389379987324928'), ('text', 'RT @whoistaoana: O Lula incomoda mais os bolsominions que o povo passando FOME, o gás a 100 pila, gasolina 6 conto, dólar 6 conto... eh de…'), ('source', '<a href=\"http://twitter.com/download/iphone\" rel=\"nofollow\">Twitter for iPhone</a>'), ('truncated', False), ('in_reply_to_status_id', None), ('in_reply_to_status_id_str', None), ('in_reply_to_user_id', None), ('in_reply_to_user_id_str', None), ('in_reply_to_screen_name', None), ('user', {'id': 91839568, 'id_str': '91839568', 'name': 'Mirnei comentarista BBB21', 'screen_name': 'mirnajade', 'location': 'Belo Horizonte, Brazil', 'url': None, 'description': '031✈️✈️✈️910', 'translator_type': 'none', 'protected': False, 'verified': False, 'followers_count': 236, 'friends_count': 254, 'listed_count': 1, 'favourites_count': 14395, 'statuses_count': 31276, 'created_at': 'Sun Nov 22 18:24:13 +0000 2009', 'utc_offset': None, 'time_zone': None, 'geo_enabled': True, 'lang': None, 'contributors_enabled': False, 'is_translator': False, 'profile_background_color': 'EAF3F7', 'profile_background_image_url': 'http://abs.twimg.com/images/themes/theme1/bg.png', 'profile_background_image_url_https': 'https://abs.twimg.com/images/themes/theme1/bg.png', 'profile_background_tile': False, 'profile_link_color': '0084B4', 'profile_sidebar_border_color': 'FFFFFF', 'profile_sidebar_fill_color': 'DDEEF6', 'profile_text_color': '333333', 'profile_use_background_image': False, 'profile_image_url': 'http://pbs.twimg.com/profile_images/1282880060408631296/6cVrNnGJ_normal.jpg', 'profile_image_url_https': 'https://pbs.twimg.com/profile_images/1282880060408631296/6cVrNnGJ_normal.jpg', 'profile_banner_url': 'https://pbs.twimg.com/profile_banners/91839568/1455230017', 'default_profile': False, 'default_profile_image': False, 'following': None, 'follow_request_sent': None, 'notifications': None}), ('geo', None), ('coordinates', None), ('place', None), ('contributors', None), ('retweeted_status', {'created_at': 'Mon Mar 08 20:32:22 +0000 2021', 'id': 1369023207328653314, 'id_str': '1369023207328653314', 'text': 'O Lula incomoda mais os bolsominions que o povo passando FOME, o gás a 100 pila, gasolina 6 conto, dólar 6 conto... eh de fude mesmo', 'source': '<a href=\"https://mobile.twitter.com\" rel=\"nofollow\">Twitter Web App</a>', 'truncated': False, 'in_reply_to_status_id': None, 'in_reply_to_status_id_str': None, 'in_reply_to_user_id': None, 'in_reply_to_user_id_str': None, 'in_reply_to_screen_name': None, 'user': {'id': 2191143522, 'id_str': '2191143522', 'name': 'tao', 'screen_name': 'whoistaoana', 'location': None, 'url': None, 'description': 'vanitas vanitatum et omnia vanitas.', 'translator_type': 'regular', 'protected': False, 'verified': False, 'followers_count': 4419, 'friends_count': 3368, 'listed_count': 1, 'favourites_count': 101900, 'statuses_count': 48764, 'created_at': 'Tue Nov 12 22:18:00 +0000 2013', 'utc_offset': None, 'time_zone': None, 'geo_enabled': True, 'lang': None, 'contributors_enabled': False, 'is_translator': False, 'profile_background_color': 'F7DCF7', 'profile_background_image_url': 'http://abs.twimg.com/images/themes/theme1/bg.png', 'profile_background_image_url_https': 'https://abs.twimg.com/images/themes/theme1/bg.png', 'profile_background_tile': True, 'profile_link_color': 'ABB8C2', 'profile_sidebar_border_color': '000000', 'profile_sidebar_fill_color': '5DB39D', 'profile_text_color': 'A0BDA0', 'profile_use_background_image': True, 'profile_image_url': 'http://pbs.twimg.com/profile_images/1366086674640498690/upJQ8Pri_normal.jpg', 'profile_image_url_https': 'https://pbs.twimg.com/profile_images/1366086674640498690/upJQ8Pri_normal.jpg', 'profile_banner_url': 'https://pbs.twimg.com/profile_banners/2191143522/1495923326', 'default_profile': False, 'default_profile_image': False, 'following': None, 'follow_request_sent': None, 'notifications': None}, 'geo': None, 'coordinates': None, 'place': None, 'contributors': None, 'is_quote_status': False, 'quote_count': 51, 'reply_count': 12, 'retweet_count': 1203, 'favorite_count': 4905, 'entities': {'hashtags': [], 'urls': [], 'user_mentions': [], 'symbols': []}, 'favorited': False, 'retweeted': False, 'filter_level': 'low', 'lang': 'pt'}), ('is_quote_status', False), ('quote_count', 0), ('reply_count', 0), ('retweet_count', 0), ('favorite_count', 0), ('entities', {'hashtags': [], 'urls': [], 'user_mentions': [{'screen_name': 'whoistaoana', 'name': 'tao', 'id': 2191143522, 'id_str': '2191143522', 'indices': [3, 15]}], 'symbols': []}), ('favorited', False), ('retweeted', False), ('filter_level', 'low'), ('lang', 'pt'), ('timestamp_ms', '1615322844870')])"
      ]
     },
     "execution_count": 21,
     "metadata": {},
     "output_type": "execute_result"
    }
   ],
   "source": [
    "parsed_tweets[0].items()"
   ]
  },
  {
   "cell_type": "code",
   "execution_count": 22,
   "metadata": {},
   "outputs": [
    {
     "data": {
      "text/plain": [
       "('created_at', 'Tue Mar 09 20:47:24 +0000 2021')"
      ]
     },
     "execution_count": 22,
     "metadata": {},
     "output_type": "execute_result"
    }
   ],
   "source": [
    "list(parsed_tweets[0].items())[0]"
   ]
  },
  {
   "cell_type": "code",
   "execution_count": 23,
   "metadata": {},
   "outputs": [
    {
     "data": {
      "text/plain": [
       "'RT @whoistaoana: O Lula incomoda mais os bolsominions que o povo passando FOME, o gás a 100 pila, gasolina 6 conto, dólar 6 conto... eh de…'"
      ]
     },
     "execution_count": 23,
     "metadata": {},
     "output_type": "execute_result"
    }
   ],
   "source": [
    "#Acessando o texto do tweet\n",
    "#chave do primeiro nível\n",
    "parsed_tweets[0]['text']"
   ]
  },
  {
   "cell_type": "code",
   "execution_count": 24,
   "metadata": {},
   "outputs": [
    {
     "data": {
      "text/plain": [
       "{'id': 91839568,\n",
       " 'id_str': '91839568',\n",
       " 'name': 'Mirnei comentarista BBB21',\n",
       " 'screen_name': 'mirnajade',\n",
       " 'location': 'Belo Horizonte, Brazil',\n",
       " 'url': None,\n",
       " 'description': '031✈️✈️✈️910',\n",
       " 'translator_type': 'none',\n",
       " 'protected': False,\n",
       " 'verified': False,\n",
       " 'followers_count': 236,\n",
       " 'friends_count': 254,\n",
       " 'listed_count': 1,\n",
       " 'favourites_count': 14395,\n",
       " 'statuses_count': 31276,\n",
       " 'created_at': 'Sun Nov 22 18:24:13 +0000 2009',\n",
       " 'utc_offset': None,\n",
       " 'time_zone': None,\n",
       " 'geo_enabled': True,\n",
       " 'lang': None,\n",
       " 'contributors_enabled': False,\n",
       " 'is_translator': False,\n",
       " 'profile_background_color': 'EAF3F7',\n",
       " 'profile_background_image_url': 'http://abs.twimg.com/images/themes/theme1/bg.png',\n",
       " 'profile_background_image_url_https': 'https://abs.twimg.com/images/themes/theme1/bg.png',\n",
       " 'profile_background_tile': False,\n",
       " 'profile_link_color': '0084B4',\n",
       " 'profile_sidebar_border_color': 'FFFFFF',\n",
       " 'profile_sidebar_fill_color': 'DDEEF6',\n",
       " 'profile_text_color': '333333',\n",
       " 'profile_use_background_image': False,\n",
       " 'profile_image_url': 'http://pbs.twimg.com/profile_images/1282880060408631296/6cVrNnGJ_normal.jpg',\n",
       " 'profile_image_url_https': 'https://pbs.twimg.com/profile_images/1282880060408631296/6cVrNnGJ_normal.jpg',\n",
       " 'profile_banner_url': 'https://pbs.twimg.com/profile_banners/91839568/1455230017',\n",
       " 'default_profile': False,\n",
       " 'default_profile_image': False,\n",
       " 'following': None,\n",
       " 'follow_request_sent': None,\n",
       " 'notifications': None}"
      ]
     },
     "execution_count": 24,
     "metadata": {},
     "output_type": "execute_result"
    }
   ],
   "source": [
    "#Acessar a chave user\n",
    "parsed_tweets[0]['user']"
   ]
  },
  {
   "cell_type": "code",
   "execution_count": 25,
   "metadata": {},
   "outputs": [
    {
     "data": {
      "text/plain": [
       "'Belo Horizonte, Brazil'"
      ]
     },
     "execution_count": 25,
     "metadata": {},
     "output_type": "execute_result"
    }
   ],
   "source": [
    "#Acessando a localização do user\n",
    "parsed_tweets[0]['user']['location']"
   ]
  },
  {
   "cell_type": "code",
   "execution_count": 26,
   "metadata": {},
   "outputs": [
    {
     "data": {
      "text/plain": [
       "254"
      ]
     },
     "execution_count": 26,
     "metadata": {},
     "output_type": "execute_result"
    }
   ],
   "source": [
    "#Acessando a contagem de seguidores do user\n",
    "parsed_tweets[0]['user']['friends_count']"
   ]
  },
  {
   "cell_type": "code",
   "execution_count": 27,
   "metadata": {},
   "outputs": [
    {
     "data": {
      "text/plain": [
       "'Mon Mar 08 20:32:22 +0000 2021'"
      ]
     },
     "execution_count": 27,
     "metadata": {},
     "output_type": "execute_result"
    }
   ],
   "source": [
    "#Vamos pegar a info do tweet original\n",
    "parsed_tweets[0]['retweeted_status']['created_at']"
   ]
  },
  {
   "cell_type": "code",
   "execution_count": 29,
   "metadata": {},
   "outputs": [
    {
     "data": {
      "text/plain": [
       "[]"
      ]
     },
     "execution_count": 29,
     "metadata": {},
     "output_type": "execute_result"
    }
   ],
   "source": [
    "# PEgando o nome do primeiro usuário mencionado no tweet original\n",
    "parsed_tweets[0]['retweeted_status']['entities']['user_mentions']"
   ]
  },
  {
   "cell_type": "markdown",
   "metadata": {},
   "source": [
    "# Transformar os tweets em uma estutura relacional analisável"
   ]
  },
  {
   "cell_type": "code",
   "execution_count": 30,
   "metadata": {},
   "outputs": [],
   "source": [
    "import pandas as pd"
   ]
  },
  {
   "cell_type": "code",
   "execution_count": 38,
   "metadata": {},
   "outputs": [
    {
     "data": {
      "text/html": [
       "<div>\n",
       "<style scoped>\n",
       "    .dataframe tbody tr th:only-of-type {\n",
       "        vertical-align: middle;\n",
       "    }\n",
       "\n",
       "    .dataframe tbody tr th {\n",
       "        vertical-align: top;\n",
       "    }\n",
       "\n",
       "    .dataframe thead th {\n",
       "        text-align: right;\n",
       "    }\n",
       "</style>\n",
       "<table border=\"1\" class=\"dataframe\">\n",
       "  <thead>\n",
       "    <tr style=\"text-align: right;\">\n",
       "      <th></th>\n",
       "      <th>created_at</th>\n",
       "      <th>id</th>\n",
       "      <th>id_str</th>\n",
       "      <th>text</th>\n",
       "      <th>source</th>\n",
       "      <th>truncated</th>\n",
       "      <th>in_reply_to_status_id</th>\n",
       "      <th>in_reply_to_status_id_str</th>\n",
       "      <th>in_reply_to_user_id</th>\n",
       "      <th>in_reply_to_user_id_str</th>\n",
       "      <th>...</th>\n",
       "      <th>quote_count</th>\n",
       "      <th>reply_count</th>\n",
       "      <th>retweet_count</th>\n",
       "      <th>favorite_count</th>\n",
       "      <th>entities</th>\n",
       "      <th>favorited</th>\n",
       "      <th>retweeted</th>\n",
       "      <th>filter_level</th>\n",
       "      <th>lang</th>\n",
       "      <th>timestamp_ms</th>\n",
       "    </tr>\n",
       "  </thead>\n",
       "  <tbody>\n",
       "    <tr>\n",
       "      <th>0</th>\n",
       "      <td>Tue Mar 09 20:47:24 +0000 2021</td>\n",
       "      <td>1369389379987324928</td>\n",
       "      <td>1369389379987324928</td>\n",
       "      <td>RT @whoistaoana: O Lula incomoda mais os bolso...</td>\n",
       "      <td>&lt;a href=\"http://twitter.com/download/iphone\" r...</td>\n",
       "      <td>False</td>\n",
       "      <td>None</td>\n",
       "      <td>None</td>\n",
       "      <td>None</td>\n",
       "      <td>None</td>\n",
       "      <td>...</td>\n",
       "      <td>0</td>\n",
       "      <td>0</td>\n",
       "      <td>0</td>\n",
       "      <td>0</td>\n",
       "      <td>NaN</td>\n",
       "      <td>False</td>\n",
       "      <td>False</td>\n",
       "      <td>low</td>\n",
       "      <td>pt</td>\n",
       "      <td>1615322844870</td>\n",
       "    </tr>\n",
       "  </tbody>\n",
       "</table>\n",
       "<p>1 rows × 28 columns</p>\n",
       "</div>"
      ],
      "text/plain": [
       "                       created_at                   id               id_str  \\\n",
       "0  Tue Mar 09 20:47:24 +0000 2021  1369389379987324928  1369389379987324928   \n",
       "\n",
       "                                                text  \\\n",
       "0  RT @whoistaoana: O Lula incomoda mais os bolso...   \n",
       "\n",
       "                                              source  truncated  \\\n",
       "0  <a href=\"http://twitter.com/download/iphone\" r...      False   \n",
       "\n",
       "  in_reply_to_status_id in_reply_to_status_id_str in_reply_to_user_id  \\\n",
       "0                  None                      None                None   \n",
       "\n",
       "  in_reply_to_user_id_str  ... quote_count reply_count retweet_count  \\\n",
       "0                    None  ...           0           0             0   \n",
       "\n",
       "  favorite_count entities favorited retweeted  filter_level  lang  \\\n",
       "0              0      NaN     False     False           low    pt   \n",
       "\n",
       "    timestamp_ms  \n",
       "0  1615322844870  \n",
       "\n",
       "[1 rows x 28 columns]"
      ]
     },
     "execution_count": 38,
     "metadata": {},
     "output_type": "execute_result"
    }
   ],
   "source": [
    "df_tratado = pd.DataFrame(parsed_tweets[0]).reset_index(drop =True).iloc[:1]\n",
    "df_tratado"
   ]
  },
  {
   "cell_type": "code",
   "execution_count": 39,
   "metadata": {},
   "outputs": [
    {
     "data": {
      "text/plain": [
       "Index(['created_at', 'id', 'id_str', 'text', 'source', 'truncated',\n",
       "       'in_reply_to_status_id', 'in_reply_to_status_id_str',\n",
       "       'in_reply_to_user_id', 'in_reply_to_user_id_str',\n",
       "       'in_reply_to_screen_name', 'user', 'geo', 'coordinates', 'place',\n",
       "       'contributors', 'retweeted_status', 'is_quote_status', 'quote_count',\n",
       "       'reply_count', 'retweet_count', 'favorite_count', 'entities',\n",
       "       'favorited', 'retweeted', 'filter_level', 'lang', 'timestamp_ms'],\n",
       "      dtype='object')"
      ]
     },
     "execution_count": 39,
     "metadata": {},
     "output_type": "execute_result"
    }
   ],
   "source": [
    "df_tratado.columns"
   ]
  },
  {
   "cell_type": "code",
   "execution_count": 40,
   "metadata": {},
   "outputs": [],
   "source": [
    "df_tratado.drop(columns =['quote_count', 'reply_count', 'retweet_count', 'favorite_count',\n",
    "                         'favorited', 'retweeted', 'user','entities','retweeted_status'], inplace = True)"
   ]
  },
  {
   "cell_type": "code",
   "execution_count": 41,
   "metadata": {},
   "outputs": [
    {
     "data": {
      "text/plain": [
       "Index(['created_at', 'id', 'id_str', 'text', 'source', 'truncated',\n",
       "       'in_reply_to_status_id', 'in_reply_to_status_id_str',\n",
       "       'in_reply_to_user_id', 'in_reply_to_user_id_str',\n",
       "       'in_reply_to_screen_name', 'geo', 'coordinates', 'place',\n",
       "       'contributors', 'is_quote_status', 'filter_level', 'lang',\n",
       "       'timestamp_ms'],\n",
       "      dtype='object')"
      ]
     },
     "execution_count": 41,
     "metadata": {},
     "output_type": "execute_result"
    }
   ],
   "source": [
    "df_tratado.columns"
   ]
  },
  {
   "cell_type": "code",
   "execution_count": 43,
   "metadata": {},
   "outputs": [],
   "source": [
    "df_tratado['user_id'] = parsed_tweets[0]['user']['id']\n",
    "df_tratado['user_id_str'] = parsed_tweets[0]['user']['id_str']\n",
    "df_tratado['user_screen_name'] = parsed_tweets[0]['user']['screen_name']\n",
    "df_tratado['user_location'] = parsed_tweets[0]['user']['location']\n",
    "df_tratado['user_bio'] = parsed_tweets[0]['user']['description']\n",
    "df_tratado['user_protected'] = parsed_tweets[0]['user']['protected']\n",
    "df_tratado['user_verified'] = parsed_tweets[0]['user']['verified']\n",
    "df_tratado['user_follower_counts'] = parsed_tweets[0]['user']['followers_count']\n",
    "df_tratado['user_friends_count'] = parsed_tweets[0]['user']['friends_count']\n",
    "df_tratado['user_created_at'] = parsed_tweets[0]['user']['created_at']"
   ]
  },
  {
   "cell_type": "code",
   "execution_count": 44,
   "metadata": {},
   "outputs": [
    {
     "data": {
      "text/html": [
       "<div>\n",
       "<style scoped>\n",
       "    .dataframe tbody tr th:only-of-type {\n",
       "        vertical-align: middle;\n",
       "    }\n",
       "\n",
       "    .dataframe tbody tr th {\n",
       "        vertical-align: top;\n",
       "    }\n",
       "\n",
       "    .dataframe thead th {\n",
       "        text-align: right;\n",
       "    }\n",
       "</style>\n",
       "<table border=\"1\" class=\"dataframe\">\n",
       "  <thead>\n",
       "    <tr style=\"text-align: right;\">\n",
       "      <th></th>\n",
       "      <th>created_at</th>\n",
       "      <th>id</th>\n",
       "      <th>id_str</th>\n",
       "      <th>text</th>\n",
       "      <th>source</th>\n",
       "      <th>truncated</th>\n",
       "      <th>in_reply_to_status_id</th>\n",
       "      <th>in_reply_to_status_id_str</th>\n",
       "      <th>in_reply_to_user_id</th>\n",
       "      <th>in_reply_to_user_id_str</th>\n",
       "      <th>...</th>\n",
       "      <th>user_id</th>\n",
       "      <th>user_id_str</th>\n",
       "      <th>user_screen_name</th>\n",
       "      <th>user_location</th>\n",
       "      <th>user_bio</th>\n",
       "      <th>user_protected</th>\n",
       "      <th>user_verified</th>\n",
       "      <th>user_follower_counts</th>\n",
       "      <th>user_friends_count</th>\n",
       "      <th>user_created_at</th>\n",
       "    </tr>\n",
       "  </thead>\n",
       "  <tbody>\n",
       "    <tr>\n",
       "      <th>0</th>\n",
       "      <td>Tue Mar 09 20:47:24 +0000 2021</td>\n",
       "      <td>1369389379987324928</td>\n",
       "      <td>1369389379987324928</td>\n",
       "      <td>RT @whoistaoana: O Lula incomoda mais os bolso...</td>\n",
       "      <td>&lt;a href=\"http://twitter.com/download/iphone\" r...</td>\n",
       "      <td>False</td>\n",
       "      <td>None</td>\n",
       "      <td>None</td>\n",
       "      <td>None</td>\n",
       "      <td>None</td>\n",
       "      <td>...</td>\n",
       "      <td>91839568</td>\n",
       "      <td>91839568</td>\n",
       "      <td>mirnajade</td>\n",
       "      <td>Belo Horizonte, Brazil</td>\n",
       "      <td>031✈️✈️✈️910</td>\n",
       "      <td>False</td>\n",
       "      <td>False</td>\n",
       "      <td>236</td>\n",
       "      <td>254</td>\n",
       "      <td>Sun Nov 22 18:24:13 +0000 2009</td>\n",
       "    </tr>\n",
       "  </tbody>\n",
       "</table>\n",
       "<p>1 rows × 29 columns</p>\n",
       "</div>"
      ],
      "text/plain": [
       "                       created_at                   id               id_str  \\\n",
       "0  Tue Mar 09 20:47:24 +0000 2021  1369389379987324928  1369389379987324928   \n",
       "\n",
       "                                                text  \\\n",
       "0  RT @whoistaoana: O Lula incomoda mais os bolso...   \n",
       "\n",
       "                                              source  truncated  \\\n",
       "0  <a href=\"http://twitter.com/download/iphone\" r...      False   \n",
       "\n",
       "  in_reply_to_status_id in_reply_to_status_id_str in_reply_to_user_id  \\\n",
       "0                  None                      None                None   \n",
       "\n",
       "  in_reply_to_user_id_str  ...   user_id user_id_str user_screen_name  \\\n",
       "0                    None  ...  91839568    91839568        mirnajade   \n",
       "\n",
       "            user_location      user_bio  user_protected user_verified  \\\n",
       "0  Belo Horizonte, Brazil  031✈️✈️✈️910           False         False   \n",
       "\n",
       "  user_follower_counts user_friends_count                 user_created_at  \n",
       "0                  236                254  Sun Nov 22 18:24:13 +0000 2009  \n",
       "\n",
       "[1 rows x 29 columns]"
      ]
     },
     "execution_count": 44,
     "metadata": {},
     "output_type": "execute_result"
    }
   ],
   "source": [
    "df_tratado.head()"
   ]
  },
  {
   "cell_type": "code",
   "execution_count": 45,
   "metadata": {},
   "outputs": [
    {
     "data": {
      "text/plain": [
       "{'hashtags': [],\n",
       " 'urls': [],\n",
       " 'user_mentions': [{'screen_name': 'whoistaoana',\n",
       "   'name': 'tao',\n",
       "   'id': 2191143522,\n",
       "   'id_str': '2191143522',\n",
       "   'indices': [3, 15]}],\n",
       " 'symbols': []}"
      ]
     },
     "execution_count": 45,
     "metadata": {},
     "output_type": "execute_result"
    }
   ],
   "source": [
    "#Entidades\n",
    "parsed_tweets[0]['entities']"
   ]
  },
  {
   "cell_type": "code",
   "execution_count": 46,
   "metadata": {},
   "outputs": [],
   "source": [
    "user_mentions = []\n",
    "\n",
    "for i in range(len(parsed_tweets[0]['entities']['user_mentions'])):\n",
    "    dicionariobase = parsed_tweets[0]['entities']['user_mentions'][i].copy()\n",
    "    dicionariobase.pop('indices', None)\n",
    "    df = pd.DataFrame(dicionariobase, index = [0])\n",
    "    df = df.rename(columns = {\n",
    "        'screen_name' : 'entities_screen_name',\n",
    "        'name' : 'entities_name',\n",
    "        'id': 'entities_id',\n",
    "        'id_str': 'entities_id_str'\n",
    "    })\n",
    "    user_mentions.append(df)"
   ]
  },
  {
   "cell_type": "code",
   "execution_count": 49,
   "metadata": {},
   "outputs": [
    {
     "data": {
      "text/html": [
       "<div>\n",
       "<style scoped>\n",
       "    .dataframe tbody tr th:only-of-type {\n",
       "        vertical-align: middle;\n",
       "    }\n",
       "\n",
       "    .dataframe tbody tr th {\n",
       "        vertical-align: top;\n",
       "    }\n",
       "\n",
       "    .dataframe thead th {\n",
       "        text-align: right;\n",
       "    }\n",
       "</style>\n",
       "<table border=\"1\" class=\"dataframe\">\n",
       "  <thead>\n",
       "    <tr style=\"text-align: right;\">\n",
       "      <th></th>\n",
       "      <th>entities_screen_name</th>\n",
       "      <th>entities_name</th>\n",
       "      <th>entities_id</th>\n",
       "      <th>entities_id_str</th>\n",
       "    </tr>\n",
       "  </thead>\n",
       "  <tbody>\n",
       "    <tr>\n",
       "      <th>0</th>\n",
       "      <td>whoistaoana</td>\n",
       "      <td>tao</td>\n",
       "      <td>2191143522</td>\n",
       "      <td>2191143522</td>\n",
       "    </tr>\n",
       "  </tbody>\n",
       "</table>\n",
       "</div>"
      ],
      "text/plain": [
       "  entities_screen_name entities_name  entities_id entities_id_str\n",
       "0          whoistaoana           tao   2191143522      2191143522"
      ]
     },
     "execution_count": 49,
     "metadata": {},
     "output_type": "execute_result"
    }
   ],
   "source": [
    "user_mentions[0]"
   ]
  },
  {
   "cell_type": "code",
   "execution_count": 51,
   "metadata": {},
   "outputs": [],
   "source": [
    "dfs = []\n",
    "for i in user_mentions:\n",
    "    dfs.append(\n",
    "    pd.concat([df_tratado.copy(), i], axis = 1)\n",
    "    )"
   ]
  },
  {
   "cell_type": "code",
   "execution_count": 54,
   "metadata": {},
   "outputs": [
    {
     "data": {
      "text/html": [
       "<div>\n",
       "<style scoped>\n",
       "    .dataframe tbody tr th:only-of-type {\n",
       "        vertical-align: middle;\n",
       "    }\n",
       "\n",
       "    .dataframe tbody tr th {\n",
       "        vertical-align: top;\n",
       "    }\n",
       "\n",
       "    .dataframe thead th {\n",
       "        text-align: right;\n",
       "    }\n",
       "</style>\n",
       "<table border=\"1\" class=\"dataframe\">\n",
       "  <thead>\n",
       "    <tr style=\"text-align: right;\">\n",
       "      <th></th>\n",
       "      <th>created_at</th>\n",
       "      <th>id</th>\n",
       "      <th>id_str</th>\n",
       "      <th>text</th>\n",
       "      <th>source</th>\n",
       "      <th>truncated</th>\n",
       "      <th>in_reply_to_status_id</th>\n",
       "      <th>in_reply_to_status_id_str</th>\n",
       "      <th>in_reply_to_user_id</th>\n",
       "      <th>in_reply_to_user_id_str</th>\n",
       "      <th>...</th>\n",
       "      <th>user_bio</th>\n",
       "      <th>user_protected</th>\n",
       "      <th>user_verified</th>\n",
       "      <th>user_follower_counts</th>\n",
       "      <th>user_friends_count</th>\n",
       "      <th>user_created_at</th>\n",
       "      <th>entities_screen_name</th>\n",
       "      <th>entities_name</th>\n",
       "      <th>entities_id</th>\n",
       "      <th>entities_id_str</th>\n",
       "    </tr>\n",
       "  </thead>\n",
       "  <tbody>\n",
       "    <tr>\n",
       "      <th>0</th>\n",
       "      <td>Tue Mar 09 20:47:24 +0000 2021</td>\n",
       "      <td>1369389379987324928</td>\n",
       "      <td>1369389379987324928</td>\n",
       "      <td>RT @whoistaoana: O Lula incomoda mais os bolso...</td>\n",
       "      <td>&lt;a href=\"http://twitter.com/download/iphone\" r...</td>\n",
       "      <td>False</td>\n",
       "      <td>None</td>\n",
       "      <td>None</td>\n",
       "      <td>None</td>\n",
       "      <td>None</td>\n",
       "      <td>...</td>\n",
       "      <td>031✈️✈️✈️910</td>\n",
       "      <td>False</td>\n",
       "      <td>False</td>\n",
       "      <td>236</td>\n",
       "      <td>254</td>\n",
       "      <td>Sun Nov 22 18:24:13 +0000 2009</td>\n",
       "      <td>whoistaoana</td>\n",
       "      <td>tao</td>\n",
       "      <td>2191143522</td>\n",
       "      <td>2191143522</td>\n",
       "    </tr>\n",
       "  </tbody>\n",
       "</table>\n",
       "<p>1 rows × 33 columns</p>\n",
       "</div>"
      ],
      "text/plain": [
       "                       created_at                   id               id_str  \\\n",
       "0  Tue Mar 09 20:47:24 +0000 2021  1369389379987324928  1369389379987324928   \n",
       "\n",
       "                                                text  \\\n",
       "0  RT @whoistaoana: O Lula incomoda mais os bolso...   \n",
       "\n",
       "                                              source  truncated  \\\n",
       "0  <a href=\"http://twitter.com/download/iphone\" r...      False   \n",
       "\n",
       "  in_reply_to_status_id in_reply_to_status_id_str in_reply_to_user_id  \\\n",
       "0                  None                      None                None   \n",
       "\n",
       "  in_reply_to_user_id_str  ...      user_bio user_protected user_verified  \\\n",
       "0                    None  ...  031✈️✈️✈️910          False         False   \n",
       "\n",
       "  user_follower_counts user_friends_count                 user_created_at  \\\n",
       "0                  236                254  Sun Nov 22 18:24:13 +0000 2009   \n",
       "\n",
       "  entities_screen_name entities_name entities_id  entities_id_str  \n",
       "0          whoistaoana           tao  2191143522       2191143522  \n",
       "\n",
       "[1 rows x 33 columns]"
      ]
     },
     "execution_count": 54,
     "metadata": {},
     "output_type": "execute_result"
    }
   ],
   "source": [
    "pd.concat(dfs, ignore_index = True)"
   ]
  },
  {
   "cell_type": "markdown",
   "metadata": {},
   "source": [
    "Vamos criar uma função que faz todo o tratamento do tweet e converte para um dataframe pandas."
   ]
  },
  {
   "cell_type": "code",
   "execution_count": 68,
   "metadata": {},
   "outputs": [],
   "source": [
    "def tweet_para_df(tweet):\n",
    "    try:\n",
    "        df_tratado = pd.DataFrame(tweet).reset_index(drop =True).iloc[:1]\n",
    "        df_tratado.drop(columns =['quote_count', 'reply_count', 'retweet_count', 'favorite_count',\n",
    "                             'favorited', 'retweeted', 'user','entities','retweeted_status'], inplace = True)\n",
    "        df_tratado['user_id'] = tweet['user']['id']\n",
    "        df_tratado['user_id_str'] = tweet['user']['id_str']\n",
    "        df_tratado['user_screen_name'] = tweet['user']['screen_name']\n",
    "        df_tratado['user_location'] = tweet['user']['location']\n",
    "        df_tratado['user_bio'] = tweet['user']['description']\n",
    "        df_tratado['user_protected'] = tweet['user']['protected']\n",
    "        df_tratado['user_verified'] = tweet['user']['verified']\n",
    "        df_tratado['user_follower_counts'] = tweet['user']['followers_count']\n",
    "        df_tratado['user_friends_count'] = tweet['user']['friends_count']\n",
    "        df_tratado['user_created_at'] = tweet['user']['created_at']\n",
    "\n",
    "        user_mentions = []\n",
    "\n",
    "        for i in range(len(tweet['entities']['user_mentions'])):\n",
    "            dicionariobase = tweet['entities']['user_mentions'][i].copy()\n",
    "            dicionariobase.pop('indices', None)\n",
    "            df = pd.DataFrame(dicionariobase, index = [0])\n",
    "            df = df.rename(columns = {\n",
    "                'screen_name' : 'entities_screen_name',\n",
    "                'name' : 'entities_name',\n",
    "                'id': 'entities_id',\n",
    "                'id_str': 'entities_id_str'\n",
    "            })\n",
    "            user_mentions.append(df)\n",
    "\n",
    "        dfs = []\n",
    "        for i in user_mentions:\n",
    "            dfs.append(\n",
    "            pd.concat([df_tratado.copy(), i], axis = 1)\n",
    "            )\n",
    "        df_final = pd.concat(dfs, ignore_index = True)\n",
    "    except:\n",
    "        return None\n",
    "    return df_final"
   ]
  },
  {
   "cell_type": "code",
   "execution_count": 74,
   "metadata": {},
   "outputs": [
    {
     "data": {
      "text/html": [
       "<div>\n",
       "<style scoped>\n",
       "    .dataframe tbody tr th:only-of-type {\n",
       "        vertical-align: middle;\n",
       "    }\n",
       "\n",
       "    .dataframe tbody tr th {\n",
       "        vertical-align: top;\n",
       "    }\n",
       "\n",
       "    .dataframe thead th {\n",
       "        text-align: right;\n",
       "    }\n",
       "</style>\n",
       "<table border=\"1\" class=\"dataframe\">\n",
       "  <thead>\n",
       "    <tr style=\"text-align: right;\">\n",
       "      <th></th>\n",
       "      <th>created_at</th>\n",
       "      <th>id</th>\n",
       "      <th>id_str</th>\n",
       "      <th>text</th>\n",
       "      <th>source</th>\n",
       "      <th>truncated</th>\n",
       "      <th>in_reply_to_status_id</th>\n",
       "      <th>in_reply_to_status_id_str</th>\n",
       "      <th>in_reply_to_user_id</th>\n",
       "      <th>in_reply_to_user_id_str</th>\n",
       "      <th>...</th>\n",
       "      <th>user_bio</th>\n",
       "      <th>user_protected</th>\n",
       "      <th>user_verified</th>\n",
       "      <th>user_follower_counts</th>\n",
       "      <th>user_friends_count</th>\n",
       "      <th>user_created_at</th>\n",
       "      <th>entities_screen_name</th>\n",
       "      <th>entities_name</th>\n",
       "      <th>entities_id</th>\n",
       "      <th>entities_id_str</th>\n",
       "    </tr>\n",
       "  </thead>\n",
       "  <tbody>\n",
       "    <tr>\n",
       "      <th>0</th>\n",
       "      <td>Tue Mar 09 20:47:26 +0000 2021</td>\n",
       "      <td>1369389384953434113</td>\n",
       "      <td>1369389384953434113</td>\n",
       "      <td>RT @XBOX49683310: Lula é ladrão sim, STF é uma...</td>\n",
       "      <td>&lt;a href=\"http://twitter.com/download/android\" ...</td>\n",
       "      <td>False</td>\n",
       "      <td>None</td>\n",
       "      <td>None</td>\n",
       "      <td>None</td>\n",
       "      <td>None</td>\n",
       "      <td>...</td>\n",
       "      <td>None</td>\n",
       "      <td>False</td>\n",
       "      <td>False</td>\n",
       "      <td>365</td>\n",
       "      <td>396</td>\n",
       "      <td>Mon Jan 18 00:09:47 +0000 2021</td>\n",
       "      <td>XBOX49683310</td>\n",
       "      <td>BIA - USE IVERMECTINA</td>\n",
       "      <td>1146802610734796800</td>\n",
       "      <td>1146802610734796800</td>\n",
       "    </tr>\n",
       "  </tbody>\n",
       "</table>\n",
       "<p>1 rows × 33 columns</p>\n",
       "</div>"
      ],
      "text/plain": [
       "                       created_at                   id               id_str  \\\n",
       "0  Tue Mar 09 20:47:26 +0000 2021  1369389384953434113  1369389384953434113   \n",
       "\n",
       "                                                text  \\\n",
       "0  RT @XBOX49683310: Lula é ladrão sim, STF é uma...   \n",
       "\n",
       "                                              source  truncated  \\\n",
       "0  <a href=\"http://twitter.com/download/android\" ...      False   \n",
       "\n",
       "  in_reply_to_status_id in_reply_to_status_id_str in_reply_to_user_id  \\\n",
       "0                  None                      None                None   \n",
       "\n",
       "  in_reply_to_user_id_str  ... user_bio user_protected user_verified  \\\n",
       "0                    None  ...     None          False         False   \n",
       "\n",
       "  user_follower_counts user_friends_count                 user_created_at  \\\n",
       "0                  365                396  Mon Jan 18 00:09:47 +0000 2021   \n",
       "\n",
       "  entities_screen_name          entities_name          entities_id  \\\n",
       "0         XBOX49683310  BIA - USE IVERMECTINA  1146802610734796800   \n",
       "\n",
       "       entities_id_str  \n",
       "0  1146802610734796800  \n",
       "\n",
       "[1 rows x 33 columns]"
      ]
     },
     "execution_count": 74,
     "metadata": {},
     "output_type": "execute_result"
    }
   ],
   "source": [
    "tweet_para_df(parsed_tweets[18])"
   ]
  },
  {
   "cell_type": "code",
   "execution_count": 75,
   "metadata": {},
   "outputs": [
    {
     "name": "stdout",
     "output_type": "stream",
     "text": [
      "Wall time: 1min 53s\n"
     ]
    }
   ],
   "source": [
    "%%time\n",
    "\n",
    "# Vamos iterar e transformar todos os tweets\n",
    "\n",
    "parseados = [tweet_para_df(tweet) for tweet in parsed_tweets]"
   ]
  },
  {
   "cell_type": "code",
   "execution_count": 80,
   "metadata": {},
   "outputs": [],
   "source": [
    "# Eliminar as posições vazias da listas\n",
    "\n",
    "parseados = [i for i in parseados if i is not None]"
   ]
  },
  {
   "cell_type": "code",
   "execution_count": 81,
   "metadata": {},
   "outputs": [
    {
     "data": {
      "text/plain": [
       "3780"
      ]
     },
     "execution_count": 81,
     "metadata": {},
     "output_type": "execute_result"
    }
   ],
   "source": [
    "len(parseados)"
   ]
  },
  {
   "cell_type": "code",
   "execution_count": 82,
   "metadata": {},
   "outputs": [],
   "source": [
    "tratados = pd.concat(parseados, ignore_index= True)"
   ]
  },
  {
   "cell_type": "code",
   "execution_count": 84,
   "metadata": {},
   "outputs": [
    {
     "data": {
      "text/html": [
       "<div>\n",
       "<style scoped>\n",
       "    .dataframe tbody tr th:only-of-type {\n",
       "        vertical-align: middle;\n",
       "    }\n",
       "\n",
       "    .dataframe tbody tr th {\n",
       "        vertical-align: top;\n",
       "    }\n",
       "\n",
       "    .dataframe thead th {\n",
       "        text-align: right;\n",
       "    }\n",
       "</style>\n",
       "<table border=\"1\" class=\"dataframe\">\n",
       "  <thead>\n",
       "    <tr style=\"text-align: right;\">\n",
       "      <th></th>\n",
       "      <th>created_at</th>\n",
       "      <th>id</th>\n",
       "      <th>id_str</th>\n",
       "      <th>text</th>\n",
       "      <th>source</th>\n",
       "      <th>truncated</th>\n",
       "      <th>in_reply_to_status_id</th>\n",
       "      <th>in_reply_to_status_id_str</th>\n",
       "      <th>in_reply_to_user_id</th>\n",
       "      <th>in_reply_to_user_id_str</th>\n",
       "      <th>...</th>\n",
       "      <th>entities_screen_name</th>\n",
       "      <th>entities_name</th>\n",
       "      <th>entities_id</th>\n",
       "      <th>entities_id_str</th>\n",
       "      <th>quoted_status_id</th>\n",
       "      <th>quoted_status_id_str</th>\n",
       "      <th>quoted_status</th>\n",
       "      <th>quoted_status_permalink</th>\n",
       "      <th>possibly_sensitive</th>\n",
       "      <th>extended_entities</th>\n",
       "    </tr>\n",
       "  </thead>\n",
       "  <tbody>\n",
       "    <tr>\n",
       "      <th>0</th>\n",
       "      <td>Tue Mar 09 20:47:24 +0000 2021</td>\n",
       "      <td>1369389379987324928</td>\n",
       "      <td>1369389379987324928</td>\n",
       "      <td>RT @whoistaoana: O Lula incomoda mais os bolso...</td>\n",
       "      <td>&lt;a href=\"http://twitter.com/download/iphone\" r...</td>\n",
       "      <td>False</td>\n",
       "      <td>None</td>\n",
       "      <td>None</td>\n",
       "      <td>None</td>\n",
       "      <td>None</td>\n",
       "      <td>...</td>\n",
       "      <td>whoistaoana</td>\n",
       "      <td>tao</td>\n",
       "      <td>2191143522</td>\n",
       "      <td>2191143522</td>\n",
       "      <td>NaN</td>\n",
       "      <td>NaN</td>\n",
       "      <td>NaN</td>\n",
       "      <td>NaN</td>\n",
       "      <td>NaN</td>\n",
       "      <td>NaN</td>\n",
       "    </tr>\n",
       "    <tr>\n",
       "      <th>1</th>\n",
       "      <td>Tue Mar 09 20:47:24 +0000 2021</td>\n",
       "      <td>1369389380448772110</td>\n",
       "      <td>1369389380448772110</td>\n",
       "      <td>RT @KakaReisdavila: Não sei quem está mais des...</td>\n",
       "      <td>&lt;a href=\"https://mobile.twitter.com\" rel=\"nofo...</td>\n",
       "      <td>False</td>\n",
       "      <td>None</td>\n",
       "      <td>None</td>\n",
       "      <td>None</td>\n",
       "      <td>None</td>\n",
       "      <td>...</td>\n",
       "      <td>KakaReisdavila</td>\n",
       "      <td>Kaka Reis</td>\n",
       "      <td>1101528205125713920</td>\n",
       "      <td>1101528205125713920</td>\n",
       "      <td>NaN</td>\n",
       "      <td>NaN</td>\n",
       "      <td>NaN</td>\n",
       "      <td>NaN</td>\n",
       "      <td>NaN</td>\n",
       "      <td>NaN</td>\n",
       "    </tr>\n",
       "    <tr>\n",
       "      <th>2</th>\n",
       "      <td>Tue Mar 09 20:47:24 +0000 2021</td>\n",
       "      <td>1369389380448706566</td>\n",
       "      <td>1369389380448706566</td>\n",
       "      <td>RT @guiaoquadrado: O dólar tá subindo todo dia...</td>\n",
       "      <td>&lt;a href=\"http://twitter.com/download/iphone\" r...</td>\n",
       "      <td>False</td>\n",
       "      <td>None</td>\n",
       "      <td>None</td>\n",
       "      <td>None</td>\n",
       "      <td>None</td>\n",
       "      <td>...</td>\n",
       "      <td>guiaoquadrado</td>\n",
       "      <td>guilherme g</td>\n",
       "      <td>57792327</td>\n",
       "      <td>57792327</td>\n",
       "      <td>NaN</td>\n",
       "      <td>NaN</td>\n",
       "      <td>NaN</td>\n",
       "      <td>NaN</td>\n",
       "      <td>NaN</td>\n",
       "      <td>NaN</td>\n",
       "    </tr>\n",
       "    <tr>\n",
       "      <th>3</th>\n",
       "      <td>Tue Mar 09 20:47:24 +0000 2021</td>\n",
       "      <td>1369389380499087360</td>\n",
       "      <td>1369389380499087360</td>\n",
       "      <td>RT @shimar13: Q raro q los medios d prensa... ...</td>\n",
       "      <td>&lt;a href=\"http://twitter.com/download/android\" ...</td>\n",
       "      <td>False</td>\n",
       "      <td>None</td>\n",
       "      <td>None</td>\n",
       "      <td>None</td>\n",
       "      <td>None</td>\n",
       "      <td>...</td>\n",
       "      <td>shimar13</td>\n",
       "      <td>Maby 🌱</td>\n",
       "      <td>1511655727</td>\n",
       "      <td>1511655727</td>\n",
       "      <td>NaN</td>\n",
       "      <td>NaN</td>\n",
       "      <td>NaN</td>\n",
       "      <td>NaN</td>\n",
       "      <td>NaN</td>\n",
       "      <td>NaN</td>\n",
       "    </tr>\n",
       "    <tr>\n",
       "      <th>4</th>\n",
       "      <td>Tue Mar 09 20:47:25 +0000 2021</td>\n",
       "      <td>1369389380641685507</td>\n",
       "      <td>1369389380641685507</td>\n",
       "      <td>RT @maluaires_: Entre Lula e Bolsonaro a melho...</td>\n",
       "      <td>&lt;a href=\"http://twitter.com/download/iphone\" r...</td>\n",
       "      <td>False</td>\n",
       "      <td>None</td>\n",
       "      <td>None</td>\n",
       "      <td>None</td>\n",
       "      <td>None</td>\n",
       "      <td>...</td>\n",
       "      <td>maluaires_</td>\n",
       "      <td>Malu</td>\n",
       "      <td>1070760691609538560</td>\n",
       "      <td>1070760691609538560</td>\n",
       "      <td>NaN</td>\n",
       "      <td>NaN</td>\n",
       "      <td>NaN</td>\n",
       "      <td>NaN</td>\n",
       "      <td>NaN</td>\n",
       "      <td>NaN</td>\n",
       "    </tr>\n",
       "    <tr>\n",
       "      <th>...</th>\n",
       "      <td>...</td>\n",
       "      <td>...</td>\n",
       "      <td>...</td>\n",
       "      <td>...</td>\n",
       "      <td>...</td>\n",
       "      <td>...</td>\n",
       "      <td>...</td>\n",
       "      <td>...</td>\n",
       "      <td>...</td>\n",
       "      <td>...</td>\n",
       "      <td>...</td>\n",
       "      <td>...</td>\n",
       "      <td>...</td>\n",
       "      <td>...</td>\n",
       "      <td>...</td>\n",
       "      <td>...</td>\n",
       "      <td>...</td>\n",
       "      <td>...</td>\n",
       "      <td>...</td>\n",
       "      <td>...</td>\n",
       "      <td>...</td>\n",
       "    </tr>\n",
       "    <tr>\n",
       "      <th>4066</th>\n",
       "      <td>Tue Mar 09 20:54:31 +0000 2021</td>\n",
       "      <td>1369391168698658818</td>\n",
       "      <td>1369391168698658818</td>\n",
       "      <td>RT @Daniel_Garcia9: Entonces hay que ser corru...</td>\n",
       "      <td>&lt;a href=\"http://twitter.com/download/android\" ...</td>\n",
       "      <td>False</td>\n",
       "      <td>None</td>\n",
       "      <td>None</td>\n",
       "      <td>None</td>\n",
       "      <td>None</td>\n",
       "      <td>...</td>\n",
       "      <td>Daniel_Garcia9</td>\n",
       "      <td>Daniel A. García</td>\n",
       "      <td>449337995</td>\n",
       "      <td>449337995</td>\n",
       "      <td>NaN</td>\n",
       "      <td>NaN</td>\n",
       "      <td>NaN</td>\n",
       "      <td>NaN</td>\n",
       "      <td>NaN</td>\n",
       "      <td>NaN</td>\n",
       "    </tr>\n",
       "    <tr>\n",
       "      <th>4067</th>\n",
       "      <td>Tue Mar 09 20:54:31 +0000 2021</td>\n",
       "      <td>1369391170393174019</td>\n",
       "      <td>1369391170393174019</td>\n",
       "      <td>RT @MPerezC1: @DiazCanelB @LulaOficial @dilmab...</td>\n",
       "      <td>&lt;a href=\"http://twitter.com/download/android\" ...</td>\n",
       "      <td>False</td>\n",
       "      <td>None</td>\n",
       "      <td>None</td>\n",
       "      <td>None</td>\n",
       "      <td>None</td>\n",
       "      <td>...</td>\n",
       "      <td>MPerezC1</td>\n",
       "      <td>MPerezC</td>\n",
       "      <td>1280175936185524226</td>\n",
       "      <td>1280175936185524226</td>\n",
       "      <td>NaN</td>\n",
       "      <td>NaN</td>\n",
       "      <td>NaN</td>\n",
       "      <td>NaN</td>\n",
       "      <td>NaN</td>\n",
       "      <td>NaN</td>\n",
       "    </tr>\n",
       "    <tr>\n",
       "      <th>4068</th>\n",
       "      <td>Tue Mar 09 20:54:31 +0000 2021</td>\n",
       "      <td>1369391170393174019</td>\n",
       "      <td>1369391170393174019</td>\n",
       "      <td>RT @MPerezC1: @DiazCanelB @LulaOficial @dilmab...</td>\n",
       "      <td>&lt;a href=\"http://twitter.com/download/android\" ...</td>\n",
       "      <td>False</td>\n",
       "      <td>None</td>\n",
       "      <td>None</td>\n",
       "      <td>None</td>\n",
       "      <td>None</td>\n",
       "      <td>...</td>\n",
       "      <td>DiazCanelB</td>\n",
       "      <td>Miguel Díaz-Canel Bermúdez</td>\n",
       "      <td>1025037163291914240</td>\n",
       "      <td>1025037163291914240</td>\n",
       "      <td>NaN</td>\n",
       "      <td>NaN</td>\n",
       "      <td>NaN</td>\n",
       "      <td>NaN</td>\n",
       "      <td>NaN</td>\n",
       "      <td>NaN</td>\n",
       "    </tr>\n",
       "    <tr>\n",
       "      <th>4069</th>\n",
       "      <td>Tue Mar 09 20:54:31 +0000 2021</td>\n",
       "      <td>1369391170393174019</td>\n",
       "      <td>1369391170393174019</td>\n",
       "      <td>RT @MPerezC1: @DiazCanelB @LulaOficial @dilmab...</td>\n",
       "      <td>&lt;a href=\"http://twitter.com/download/android\" ...</td>\n",
       "      <td>False</td>\n",
       "      <td>None</td>\n",
       "      <td>None</td>\n",
       "      <td>None</td>\n",
       "      <td>None</td>\n",
       "      <td>...</td>\n",
       "      <td>LulaOficial</td>\n",
       "      <td>Lula</td>\n",
       "      <td>2670726740</td>\n",
       "      <td>2670726740</td>\n",
       "      <td>NaN</td>\n",
       "      <td>NaN</td>\n",
       "      <td>NaN</td>\n",
       "      <td>NaN</td>\n",
       "      <td>NaN</td>\n",
       "      <td>NaN</td>\n",
       "    </tr>\n",
       "    <tr>\n",
       "      <th>4070</th>\n",
       "      <td>Tue Mar 09 20:54:31 +0000 2021</td>\n",
       "      <td>1369391170393174019</td>\n",
       "      <td>1369391170393174019</td>\n",
       "      <td>RT @MPerezC1: @DiazCanelB @LulaOficial @dilmab...</td>\n",
       "      <td>&lt;a href=\"http://twitter.com/download/android\" ...</td>\n",
       "      <td>False</td>\n",
       "      <td>None</td>\n",
       "      <td>None</td>\n",
       "      <td>None</td>\n",
       "      <td>None</td>\n",
       "      <td>...</td>\n",
       "      <td>dilmabr</td>\n",
       "      <td>Dilma Rousseff</td>\n",
       "      <td>131574396</td>\n",
       "      <td>131574396</td>\n",
       "      <td>NaN</td>\n",
       "      <td>NaN</td>\n",
       "      <td>NaN</td>\n",
       "      <td>NaN</td>\n",
       "      <td>NaN</td>\n",
       "      <td>NaN</td>\n",
       "    </tr>\n",
       "  </tbody>\n",
       "</table>\n",
       "<p>4071 rows × 39 columns</p>\n",
       "</div>"
      ],
      "text/plain": [
       "                          created_at                   id  \\\n",
       "0     Tue Mar 09 20:47:24 +0000 2021  1369389379987324928   \n",
       "1     Tue Mar 09 20:47:24 +0000 2021  1369389380448772110   \n",
       "2     Tue Mar 09 20:47:24 +0000 2021  1369389380448706566   \n",
       "3     Tue Mar 09 20:47:24 +0000 2021  1369389380499087360   \n",
       "4     Tue Mar 09 20:47:25 +0000 2021  1369389380641685507   \n",
       "...                              ...                  ...   \n",
       "4066  Tue Mar 09 20:54:31 +0000 2021  1369391168698658818   \n",
       "4067  Tue Mar 09 20:54:31 +0000 2021  1369391170393174019   \n",
       "4068  Tue Mar 09 20:54:31 +0000 2021  1369391170393174019   \n",
       "4069  Tue Mar 09 20:54:31 +0000 2021  1369391170393174019   \n",
       "4070  Tue Mar 09 20:54:31 +0000 2021  1369391170393174019   \n",
       "\n",
       "                   id_str                                               text  \\\n",
       "0     1369389379987324928  RT @whoistaoana: O Lula incomoda mais os bolso...   \n",
       "1     1369389380448772110  RT @KakaReisdavila: Não sei quem está mais des...   \n",
       "2     1369389380448706566  RT @guiaoquadrado: O dólar tá subindo todo dia...   \n",
       "3     1369389380499087360  RT @shimar13: Q raro q los medios d prensa... ...   \n",
       "4     1369389380641685507  RT @maluaires_: Entre Lula e Bolsonaro a melho...   \n",
       "...                   ...                                                ...   \n",
       "4066  1369391168698658818  RT @Daniel_Garcia9: Entonces hay que ser corru...   \n",
       "4067  1369391170393174019  RT @MPerezC1: @DiazCanelB @LulaOficial @dilmab...   \n",
       "4068  1369391170393174019  RT @MPerezC1: @DiazCanelB @LulaOficial @dilmab...   \n",
       "4069  1369391170393174019  RT @MPerezC1: @DiazCanelB @LulaOficial @dilmab...   \n",
       "4070  1369391170393174019  RT @MPerezC1: @DiazCanelB @LulaOficial @dilmab...   \n",
       "\n",
       "                                                 source  truncated  \\\n",
       "0     <a href=\"http://twitter.com/download/iphone\" r...      False   \n",
       "1     <a href=\"https://mobile.twitter.com\" rel=\"nofo...      False   \n",
       "2     <a href=\"http://twitter.com/download/iphone\" r...      False   \n",
       "3     <a href=\"http://twitter.com/download/android\" ...      False   \n",
       "4     <a href=\"http://twitter.com/download/iphone\" r...      False   \n",
       "...                                                 ...        ...   \n",
       "4066  <a href=\"http://twitter.com/download/android\" ...      False   \n",
       "4067  <a href=\"http://twitter.com/download/android\" ...      False   \n",
       "4068  <a href=\"http://twitter.com/download/android\" ...      False   \n",
       "4069  <a href=\"http://twitter.com/download/android\" ...      False   \n",
       "4070  <a href=\"http://twitter.com/download/android\" ...      False   \n",
       "\n",
       "     in_reply_to_status_id in_reply_to_status_id_str in_reply_to_user_id  \\\n",
       "0                     None                      None                None   \n",
       "1                     None                      None                None   \n",
       "2                     None                      None                None   \n",
       "3                     None                      None                None   \n",
       "4                     None                      None                None   \n",
       "...                    ...                       ...                 ...   \n",
       "4066                  None                      None                None   \n",
       "4067                  None                      None                None   \n",
       "4068                  None                      None                None   \n",
       "4069                  None                      None                None   \n",
       "4070                  None                      None                None   \n",
       "\n",
       "     in_reply_to_user_id_str  ... entities_screen_name  \\\n",
       "0                       None  ...          whoistaoana   \n",
       "1                       None  ...       KakaReisdavila   \n",
       "2                       None  ...        guiaoquadrado   \n",
       "3                       None  ...             shimar13   \n",
       "4                       None  ...           maluaires_   \n",
       "...                      ...  ...                  ...   \n",
       "4066                    None  ...       Daniel_Garcia9   \n",
       "4067                    None  ...             MPerezC1   \n",
       "4068                    None  ...           DiazCanelB   \n",
       "4069                    None  ...          LulaOficial   \n",
       "4070                    None  ...              dilmabr   \n",
       "\n",
       "                   entities_name          entities_id      entities_id_str  \\\n",
       "0                            tao           2191143522           2191143522   \n",
       "1                      Kaka Reis  1101528205125713920  1101528205125713920   \n",
       "2                    guilherme g             57792327             57792327   \n",
       "3                         Maby 🌱           1511655727           1511655727   \n",
       "4                           Malu  1070760691609538560  1070760691609538560   \n",
       "...                          ...                  ...                  ...   \n",
       "4066            Daniel A. García            449337995            449337995   \n",
       "4067                     MPerezC  1280175936185524226  1280175936185524226   \n",
       "4068  Miguel Díaz-Canel Bermúdez  1025037163291914240  1025037163291914240   \n",
       "4069                        Lula           2670726740           2670726740   \n",
       "4070              Dilma Rousseff            131574396            131574396   \n",
       "\n",
       "     quoted_status_id  quoted_status_id_str quoted_status  \\\n",
       "0                 NaN                   NaN           NaN   \n",
       "1                 NaN                   NaN           NaN   \n",
       "2                 NaN                   NaN           NaN   \n",
       "3                 NaN                   NaN           NaN   \n",
       "4                 NaN                   NaN           NaN   \n",
       "...               ...                   ...           ...   \n",
       "4066              NaN                   NaN           NaN   \n",
       "4067              NaN                   NaN           NaN   \n",
       "4068              NaN                   NaN           NaN   \n",
       "4069              NaN                   NaN           NaN   \n",
       "4070              NaN                   NaN           NaN   \n",
       "\n",
       "     quoted_status_permalink possibly_sensitive  extended_entities  \n",
       "0                        NaN                NaN                NaN  \n",
       "1                        NaN                NaN                NaN  \n",
       "2                        NaN                NaN                NaN  \n",
       "3                        NaN                NaN                NaN  \n",
       "4                        NaN                NaN                NaN  \n",
       "...                      ...                ...                ...  \n",
       "4066                     NaN                NaN                NaN  \n",
       "4067                     NaN                NaN                NaN  \n",
       "4068                     NaN                NaN                NaN  \n",
       "4069                     NaN                NaN                NaN  \n",
       "4070                     NaN                NaN                NaN  \n",
       "\n",
       "[4071 rows x 39 columns]"
      ]
     },
     "execution_count": 84,
     "metadata": {},
     "output_type": "execute_result"
    }
   ],
   "source": [
    "tratados"
   ]
  },
  {
   "cell_type": "code",
   "execution_count": null,
   "metadata": {},
   "outputs": [],
   "source": []
  }
 ],
 "metadata": {
  "kernelspec": {
   "display_name": "Python 3",
   "language": "python",
   "name": "python3"
  },
  "language_info": {
   "codemirror_mode": {
    "name": "ipython",
    "version": 3
   },
   "file_extension": ".py",
   "mimetype": "text/x-python",
   "name": "python",
   "nbconvert_exporter": "python",
   "pygments_lexer": "ipython3",
   "version": "3.8.5"
  }
 },
 "nbformat": 4,
 "nbformat_minor": 4
}
