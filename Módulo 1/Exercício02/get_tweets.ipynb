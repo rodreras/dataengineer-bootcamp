{
 "cells": [
  {
   "cell_type": "markdown",
   "metadata": {},
   "source": [
    "# Usei esse para construir o código, depois salvei no arquivo `get_tweets.py`"
   ]
  },
  {
   "cell_type": "code",
   "execution_count": 32,
   "metadata": {},
   "outputs": [],
   "source": [
    "import json\n",
    "from tweepy import OAuthHandler, Stream, StreamListener\n",
    "from datetime import datetime\n",
    "\n",
    "#Cadastrando as chaves de acesso\n",
    "consumer_key = 'Qx8NrwYeylu0xeuiPiizblKsv'\n",
    "consumer_secret = 'APpja0FL7hjyWQjti0DchBs4x40QGsHDMBEqETnOoihb7UVPfe'\n",
    "\n",
    "access_token = '745374787569061892-cqpkRowuhOEzRXjA3gwmpAXx2qQatWY'\n",
    "access_token_secret = 'Q0oS9vAP0AHX7kCnR7iq9wWejq42WLRl5QZle3RlT8dsu'\n",
    "\n",
    "#Definir um arquivo de saída para armazenar os tweets coletados\n",
    "agora = datetime.now().strftime(\"%Y-%m-%d-%H-%M-%m\")\n",
    "out = open(f\"collected_tweets{agora}.txt\",'w')\n",
    "\n",
    "# Implementar uma classe para conexão com o Twitter\n",
    "class MyListener(StreamListener):\n",
    "    \n",
    "    def on_data(self, data):\n",
    "        itemString = json.dumps(data)\n",
    "        out.write(itemString + \"\\n\")\n",
    "        return True\n",
    "    \n",
    "    def on_error(self, status):\n",
    "        print(status)\n",
    "        \n",
    "#Implementar a função MAIN\n",
    "\n",
    "if __name__ == \"__main__\":\n",
    "    l = MyListener()\n",
    "    auth = OAuthHandler(consumer_key, consumer_secret)\n",
    "    auth.set_access_token(access_token, access_token_secret)\n",
    "    \n",
    "    stream = Stream(auth, l)\n",
    "    stream.filter(track = [\"Lula\"])"
   ]
  }
 ],
 "metadata": {
  "kernelspec": {
   "display_name": "Python 3",
   "language": "python",
   "name": "python3"
  },
  "language_info": {
   "codemirror_mode": {
    "name": "ipython",
    "version": 3
   },
   "file_extension": ".py",
   "mimetype": "text/x-python",
   "name": "python",
   "nbconvert_exporter": "python",
   "pygments_lexer": "ipython3",
   "version": "3.8.5"
  }
 },
 "nbformat": 4,
 "nbformat_minor": 4
}
