{
 "cells": [
  {
   "cell_type": "markdown",
   "metadata": {},
   "source": [
    "# Credenciais Twitter API"
   ]
  },
  {
   "cell_type": "code",
   "execution_count": 1,
   "metadata": {},
   "outputs": [],
   "source": [
    "API_KEY = 'Qx8NrwYeylu0xeuiPiizblKsv'\n",
    "API_SECRET = 'APpja0FL7hjyWQjti0DchBs4x40QGsHDMBEqETnOoihb7UVPfe'\n",
    "bEARER_TOKEN = 'AAAAAAAAAAAAAAAAAAAAAL2%2FNQEAAAAAM%2Fef8EaJAZDY%2Fs%2FUHjXKpQAVKS8%3D7LIuZ44vcBhyKOktiPqhsulvwVk1EnXga2JziQbAu2wmzGRy9U'\n",
    "ACCESS_TOKEN = '745374787569061892-cqpkRowuhOEzRXjA3gwmpAXx2qQatWY'\n",
    "TOKEN_SECRET = 'Q0oS9vAP0AHX7kCnR7iq9wWejq42WLRl5QZle3RlT8dsu'"
   ]
  },
  {
   "cell_type": "code",
   "execution_count": null,
   "metadata": {},
   "outputs": [],
   "source": []
  }
 ],
 "metadata": {
  "kernelspec": {
   "display_name": "Python 3",
   "language": "python",
   "name": "python3"
  },
  "language_info": {
   "codemirror_mode": {
    "name": "ipython",
    "version": 3
   },
   "file_extension": ".py",
   "mimetype": "text/x-python",
   "name": "python",
   "nbconvert_exporter": "python",
   "pygments_lexer": "ipython3",
   "version": "3.8.5"
  }
 },
 "nbformat": 4,
 "nbformat_minor": 4
}
